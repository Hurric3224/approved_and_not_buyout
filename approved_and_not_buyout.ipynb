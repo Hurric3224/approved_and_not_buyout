{
 "cells": [
  {
   "cell_type": "code",
   "execution_count": 13,
   "id": "b1358530",
   "metadata": {},
   "outputs": [],
   "source": [
    "import pandas as pd\n",
    "import seaborn as sns\n",
    "import matplotlib.pyplot as plt"
   ]
  },
  {
   "cell_type": "code",
   "execution_count": 222,
   "id": "c6b76657",
   "metadata": {},
   "outputs": [
    {
     "name": "stdout",
     "output_type": "stream",
     "text": [
      "<class 'pandas.core.frame.DataFrame'>\n",
      "RangeIndex: 25136 entries, 0 to 25135\n",
      "Data columns (total 6 columns):\n",
      " #   Column                        Non-Null Count  Dtype  \n",
      "---  ------                        --------------  -----  \n",
      " 0   customer_phone                25136 non-null  object \n",
      " 1   name_en                       25136 non-null  object \n",
      " 2   orders_count_buyout_is_false  25136 non-null  int64  \n",
      " 3   orders_count_buyout_is_true   25136 non-null  int64  \n",
      " 4   total_closed_orders           25136 non-null  int64  \n",
      " 5   USD_total_closed_orders       25136 non-null  float64\n",
      "dtypes: float64(1), int64(3), object(2)\n",
      "memory usage: 1.2+ MB\n"
     ]
    }
   ],
   "source": [
    "df = pd.read_csv(r'D:\\Yuri\\Projects\\approved_and_not_buyout\\approved_and_not_buyout.csv')\n",
    "lastta = pd.read_csv(r'D:\\Yuri\\Projects\\approved_and_not_buyout\\lastta.csv')\n",
    "total = pd.read_csv(r'D:\\Yuri\\Projects\\approved_and_not_buyout\\_total_USD_.csv')\n",
    "df.info()"
   ]
  },
  {
   "cell_type": "markdown",
   "id": "44b9bf61",
   "metadata": {},
   "source": [
    "### Данные с 2022-01-01"
   ]
  },
  {
   "cell_type": "code",
   "execution_count": 34,
   "id": "1c78c036",
   "metadata": {},
   "outputs": [
    {
     "data": {
      "text/html": [
       "<div>\n",
       "<style scoped>\n",
       "    .dataframe tbody tr th:only-of-type {\n",
       "        vertical-align: middle;\n",
       "    }\n",
       "\n",
       "    .dataframe tbody tr th {\n",
       "        vertical-align: top;\n",
       "    }\n",
       "\n",
       "    .dataframe thead th {\n",
       "        text-align: right;\n",
       "    }\n",
       "</style>\n",
       "<table border=\"1\" class=\"dataframe\">\n",
       "  <thead>\n",
       "    <tr style=\"text-align: right;\">\n",
       "      <th></th>\n",
       "      <th>customer_phone</th>\n",
       "      <th>name_en</th>\n",
       "      <th>orders_count_buyout_is_false</th>\n",
       "      <th>orders_count_buyout_is_true</th>\n",
       "      <th>total_closed_orders</th>\n",
       "      <th>USD_total_closed_orders</th>\n",
       "    </tr>\n",
       "  </thead>\n",
       "  <tbody>\n",
       "    <tr>\n",
       "      <th>0</th>\n",
       "      <td>(empty)</td>\n",
       "      <td>Chile</td>\n",
       "      <td>3</td>\n",
       "      <td>45</td>\n",
       "      <td>48</td>\n",
       "      <td>2029.060633</td>\n",
       "    </tr>\n",
       "    <tr>\n",
       "      <th>1</th>\n",
       "      <td>(empty)</td>\n",
       "      <td>Mexico</td>\n",
       "      <td>8</td>\n",
       "      <td>157</td>\n",
       "      <td>165</td>\n",
       "      <td>6980.846705</td>\n",
       "    </tr>\n",
       "    <tr>\n",
       "      <th>2</th>\n",
       "      <td>07041292485</td>\n",
       "      <td>Japan</td>\n",
       "      <td>2</td>\n",
       "      <td>1</td>\n",
       "      <td>3</td>\n",
       "      <td>212.880242</td>\n",
       "    </tr>\n",
       "    <tr>\n",
       "      <th>3</th>\n",
       "      <td>08060606689</td>\n",
       "      <td>Japan</td>\n",
       "      <td>2</td>\n",
       "      <td>0</td>\n",
       "      <td>2</td>\n",
       "      <td>98.539620</td>\n",
       "    </tr>\n",
       "    <tr>\n",
       "      <th>4</th>\n",
       "      <td>08081468141</td>\n",
       "      <td>Japan</td>\n",
       "      <td>2</td>\n",
       "      <td>0</td>\n",
       "      <td>2</td>\n",
       "      <td>158.596373</td>\n",
       "    </tr>\n",
       "    <tr>\n",
       "      <th>...</th>\n",
       "      <td>...</td>\n",
       "      <td>...</td>\n",
       "      <td>...</td>\n",
       "      <td>...</td>\n",
       "      <td>...</td>\n",
       "      <td>...</td>\n",
       "    </tr>\n",
       "    <tr>\n",
       "      <th>25131</th>\n",
       "      <td>undefined</td>\n",
       "      <td>France-Darix</td>\n",
       "      <td>81</td>\n",
       "      <td>471</td>\n",
       "      <td>552</td>\n",
       "      <td>9381.000767</td>\n",
       "    </tr>\n",
       "    <tr>\n",
       "      <th>25132</th>\n",
       "      <td>undefined</td>\n",
       "      <td>Italy-Darix</td>\n",
       "      <td>21</td>\n",
       "      <td>338</td>\n",
       "      <td>359</td>\n",
       "      <td>5685.657626</td>\n",
       "    </tr>\n",
       "    <tr>\n",
       "      <th>25133</th>\n",
       "      <td>undefined</td>\n",
       "      <td>Mexico</td>\n",
       "      <td>1010</td>\n",
       "      <td>4165</td>\n",
       "      <td>5175</td>\n",
       "      <td>150312.224663</td>\n",
       "    </tr>\n",
       "    <tr>\n",
       "      <th>25134</th>\n",
       "      <td>undefined</td>\n",
       "      <td>Spain-Darix</td>\n",
       "      <td>12</td>\n",
       "      <td>5</td>\n",
       "      <td>17</td>\n",
       "      <td>220.922611</td>\n",
       "    </tr>\n",
       "    <tr>\n",
       "      <th>25135</th>\n",
       "      <td>undefined</td>\n",
       "      <td>The Netherlands</td>\n",
       "      <td>9</td>\n",
       "      <td>78</td>\n",
       "      <td>87</td>\n",
       "      <td>1512.752067</td>\n",
       "    </tr>\n",
       "  </tbody>\n",
       "</table>\n",
       "<p>25136 rows × 6 columns</p>\n",
       "</div>"
      ],
      "text/plain": [
       "      customer_phone          name_en  orders_count_buyout_is_false  \\\n",
       "0            (empty)            Chile                             3   \n",
       "1            (empty)           Mexico                             8   \n",
       "2        07041292485            Japan                             2   \n",
       "3        08060606689            Japan                             2   \n",
       "4        08081468141            Japan                             2   \n",
       "...              ...              ...                           ...   \n",
       "25131      undefined     France-Darix                            81   \n",
       "25132      undefined      Italy-Darix                            21   \n",
       "25133      undefined           Mexico                          1010   \n",
       "25134      undefined      Spain-Darix                            12   \n",
       "25135      undefined  The Netherlands                             9   \n",
       "\n",
       "       orders_count_buyout_is_true  total_closed_orders  \\\n",
       "0                               45                   48   \n",
       "1                              157                  165   \n",
       "2                                1                    3   \n",
       "3                                0                    2   \n",
       "4                                0                    2   \n",
       "...                            ...                  ...   \n",
       "25131                          471                  552   \n",
       "25132                          338                  359   \n",
       "25133                         4165                 5175   \n",
       "25134                            5                   17   \n",
       "25135                           78                   87   \n",
       "\n",
       "       USD_total_closed_orders  \n",
       "0                  2029.060633  \n",
       "1                  6980.846705  \n",
       "2                   212.880242  \n",
       "3                    98.539620  \n",
       "4                   158.596373  \n",
       "...                        ...  \n",
       "25131              9381.000767  \n",
       "25132              5685.657626  \n",
       "25133            150312.224663  \n",
       "25134               220.922611  \n",
       "25135              1512.752067  \n",
       "\n",
       "[25136 rows x 6 columns]"
      ]
     },
     "execution_count": 34,
     "metadata": {},
     "output_type": "execute_result"
    }
   ],
   "source": [
    "df"
   ]
  },
  {
   "cell_type": "code",
   "execution_count": 32,
   "id": "1b3456a1",
   "metadata": {},
   "outputs": [
    {
     "data": {
      "text/html": [
       "<div>\n",
       "<style scoped>\n",
       "    .dataframe tbody tr th:only-of-type {\n",
       "        vertical-align: middle;\n",
       "    }\n",
       "\n",
       "    .dataframe tbody tr th {\n",
       "        vertical-align: top;\n",
       "    }\n",
       "\n",
       "    .dataframe thead th {\n",
       "        text-align: right;\n",
       "    }\n",
       "</style>\n",
       "<table border=\"1\" class=\"dataframe\">\n",
       "  <thead>\n",
       "    <tr style=\"text-align: right;\">\n",
       "      <th></th>\n",
       "      <th>total_order_count</th>\n",
       "      <th>USD_total_order_count</th>\n",
       "    </tr>\n",
       "  </thead>\n",
       "  <tbody>\n",
       "    <tr>\n",
       "      <th>0</th>\n",
       "      <td>1233597</td>\n",
       "      <td>82352530</td>\n",
       "    </tr>\n",
       "  </tbody>\n",
       "</table>\n",
       "</div>"
      ],
      "text/plain": [
       "   total_order_count  USD_total_order_count\n",
       "0            1233597               82352530"
      ]
     },
     "execution_count": 32,
     "metadata": {},
     "output_type": "execute_result"
    }
   ],
   "source": [
    "total"
   ]
  },
  {
   "cell_type": "code",
   "execution_count": 62,
   "id": "338a7b0f",
   "metadata": {},
   "outputs": [],
   "source": [
    "group_by_phone_df = df.groupby('customer_phone', as_index=False).agg({'orders_count_buyout_is_false':sum, 'orders_count_buyout_is_true':sum, 'total_closed_orders': sum, 'USD_total_closed_orders': sum})"
   ]
  },
  {
   "cell_type": "code",
   "execution_count": 223,
   "id": "769bf404",
   "metadata": {},
   "outputs": [
    {
     "data": {
      "text/html": [
       "<div>\n",
       "<style scoped>\n",
       "    .dataframe tbody tr th:only-of-type {\n",
       "        vertical-align: middle;\n",
       "    }\n",
       "\n",
       "    .dataframe tbody tr th {\n",
       "        vertical-align: top;\n",
       "    }\n",
       "\n",
       "    .dataframe thead th {\n",
       "        text-align: right;\n",
       "    }\n",
       "</style>\n",
       "<table border=\"1\" class=\"dataframe\">\n",
       "  <thead>\n",
       "    <tr style=\"text-align: right;\">\n",
       "      <th></th>\n",
       "      <th>customer_phone</th>\n",
       "      <th>orders_count_buyout_is_false</th>\n",
       "      <th>orders_count_buyout_is_true</th>\n",
       "      <th>total_closed_orders</th>\n",
       "      <th>USD_total_closed_orders</th>\n",
       "    </tr>\n",
       "  </thead>\n",
       "  <tbody>\n",
       "    <tr>\n",
       "      <th>1</th>\n",
       "      <td>07041292485</td>\n",
       "      <td>2</td>\n",
       "      <td>1</td>\n",
       "      <td>3</td>\n",
       "      <td>212.880242</td>\n",
       "    </tr>\n",
       "    <tr>\n",
       "      <th>2</th>\n",
       "      <td>08060606689</td>\n",
       "      <td>2</td>\n",
       "      <td>0</td>\n",
       "      <td>2</td>\n",
       "      <td>98.539620</td>\n",
       "    </tr>\n",
       "    <tr>\n",
       "      <th>3</th>\n",
       "      <td>08081468141</td>\n",
       "      <td>2</td>\n",
       "      <td>0</td>\n",
       "      <td>2</td>\n",
       "      <td>158.596373</td>\n",
       "    </tr>\n",
       "    <tr>\n",
       "      <th>4</th>\n",
       "      <td>13175010358</td>\n",
       "      <td>2</td>\n",
       "      <td>0</td>\n",
       "      <td>2</td>\n",
       "      <td>154.485132</td>\n",
       "    </tr>\n",
       "    <tr>\n",
       "      <th>5</th>\n",
       "      <td>15598535956</td>\n",
       "      <td>2</td>\n",
       "      <td>0</td>\n",
       "      <td>2</td>\n",
       "      <td>193.412081</td>\n",
       "    </tr>\n",
       "    <tr>\n",
       "      <th>...</th>\n",
       "      <td>...</td>\n",
       "      <td>...</td>\n",
       "      <td>...</td>\n",
       "      <td>...</td>\n",
       "      <td>...</td>\n",
       "    </tr>\n",
       "    <tr>\n",
       "      <th>25121</th>\n",
       "      <td>94779584408</td>\n",
       "      <td>2</td>\n",
       "      <td>0</td>\n",
       "      <td>2</td>\n",
       "      <td>149.976226</td>\n",
       "    </tr>\n",
       "    <tr>\n",
       "      <th>25122</th>\n",
       "      <td>94779626816</td>\n",
       "      <td>2</td>\n",
       "      <td>0</td>\n",
       "      <td>2</td>\n",
       "      <td>95.955283</td>\n",
       "    </tr>\n",
       "    <tr>\n",
       "      <th>25123</th>\n",
       "      <td>94781615555</td>\n",
       "      <td>2</td>\n",
       "      <td>0</td>\n",
       "      <td>2</td>\n",
       "      <td>149.869322</td>\n",
       "    </tr>\n",
       "    <tr>\n",
       "      <th>25124</th>\n",
       "      <td>94783926421</td>\n",
       "      <td>2</td>\n",
       "      <td>0</td>\n",
       "      <td>2</td>\n",
       "      <td>83.330809</td>\n",
       "    </tr>\n",
       "    <tr>\n",
       "      <th>25125</th>\n",
       "      <td>94789279846</td>\n",
       "      <td>2</td>\n",
       "      <td>0</td>\n",
       "      <td>2</td>\n",
       "      <td>83.692608</td>\n",
       "    </tr>\n",
       "  </tbody>\n",
       "</table>\n",
       "<p>25125 rows × 5 columns</p>\n",
       "</div>"
      ],
      "text/plain": [
       "      customer_phone  orders_count_buyout_is_false  \\\n",
       "1        07041292485                             2   \n",
       "2        08060606689                             2   \n",
       "3        08081468141                             2   \n",
       "4        13175010358                             2   \n",
       "5        15598535956                             2   \n",
       "...              ...                           ...   \n",
       "25121    94779584408                             2   \n",
       "25122    94779626816                             2   \n",
       "25123    94781615555                             2   \n",
       "25124    94783926421                             2   \n",
       "25125    94789279846                             2   \n",
       "\n",
       "       orders_count_buyout_is_true  total_closed_orders  \\\n",
       "1                                1                    3   \n",
       "2                                0                    2   \n",
       "3                                0                    2   \n",
       "4                                0                    2   \n",
       "5                                0                    2   \n",
       "...                            ...                  ...   \n",
       "25121                            0                    2   \n",
       "25122                            0                    2   \n",
       "25123                            0                    2   \n",
       "25124                            0                    2   \n",
       "25125                            0                    2   \n",
       "\n",
       "       USD_total_closed_orders  \n",
       "1                   212.880242  \n",
       "2                    98.539620  \n",
       "3                   158.596373  \n",
       "4                   154.485132  \n",
       "5                   193.412081  \n",
       "...                        ...  \n",
       "25121               149.976226  \n",
       "25122                95.955283  \n",
       "25123               149.869322  \n",
       "25124                83.330809  \n",
       "25125                83.692608  \n",
       "\n",
       "[25125 rows x 5 columns]"
      ]
     },
     "execution_count": 223,
     "metadata": {},
     "output_type": "execute_result"
    }
   ],
   "source": [
    "group_by_phone_df = group_by_phone_df.loc[1:25125]\n",
    "group_by_phone_df"
   ]
  },
  {
   "cell_type": "code",
   "execution_count": 118,
   "id": "693c7ab9",
   "metadata": {},
   "outputs": [],
   "source": [
    "message = 'Orders in query/total orders is: {order}%, USD in query/total USD is: {usd}%'"
   ]
  },
  {
   "cell_type": "code",
   "execution_count": 88,
   "id": "d42acc0d",
   "metadata": {},
   "outputs": [
    {
     "data": {
      "text/plain": [
       "(56364, 7902)"
      ]
     },
     "execution_count": 88,
     "metadata": {},
     "output_type": "execute_result"
    }
   ],
   "source": [
    "group_by_phone_df['orders_count_buyout_is_false'].sum(), group_by_phone_df['orders_count_buyout_is_true'].sum(), "
   ]
  },
  {
   "cell_type": "code",
   "execution_count": 225,
   "id": "31d0d082",
   "metadata": {},
   "outputs": [
    {
     "data": {
      "text/html": [
       "<div>\n",
       "<style scoped>\n",
       "    .dataframe tbody tr th:only-of-type {\n",
       "        vertical-align: middle;\n",
       "    }\n",
       "\n",
       "    .dataframe tbody tr th {\n",
       "        vertical-align: top;\n",
       "    }\n",
       "\n",
       "    .dataframe thead th {\n",
       "        text-align: right;\n",
       "    }\n",
       "</style>\n",
       "<table border=\"1\" class=\"dataframe\">\n",
       "  <thead>\n",
       "    <tr style=\"text-align: right;\">\n",
       "      <th></th>\n",
       "      <th>customer_phone</th>\n",
       "      <th>name_en</th>\n",
       "      <th>orders_count_buyout_is_false</th>\n",
       "      <th>orders_count_buyout_is_true</th>\n",
       "      <th>total_closed_orders</th>\n",
       "      <th>USD_total_closed_orders</th>\n",
       "    </tr>\n",
       "  </thead>\n",
       "  <tbody>\n",
       "    <tr>\n",
       "      <th>2</th>\n",
       "      <td>00104858209</td>\n",
       "      <td>Colombia</td>\n",
       "      <td>1</td>\n",
       "      <td>0</td>\n",
       "      <td>1</td>\n",
       "      <td>35.742293</td>\n",
       "    </tr>\n",
       "    <tr>\n",
       "      <th>3</th>\n",
       "      <td>004421107797</td>\n",
       "      <td>Mexico</td>\n",
       "      <td>1</td>\n",
       "      <td>0</td>\n",
       "      <td>1</td>\n",
       "      <td>54.264956</td>\n",
       "    </tr>\n",
       "    <tr>\n",
       "      <th>4</th>\n",
       "      <td>005581424742</td>\n",
       "      <td>Mexico</td>\n",
       "      <td>1</td>\n",
       "      <td>0</td>\n",
       "      <td>1</td>\n",
       "      <td>76.579075</td>\n",
       "    </tr>\n",
       "    <tr>\n",
       "      <th>5</th>\n",
       "      <td>006391193794</td>\n",
       "      <td>Mexico</td>\n",
       "      <td>1</td>\n",
       "      <td>0</td>\n",
       "      <td>1</td>\n",
       "      <td>75.356799</td>\n",
       "    </tr>\n",
       "    <tr>\n",
       "      <th>6</th>\n",
       "      <td>006611174574</td>\n",
       "      <td>Mexico</td>\n",
       "      <td>1</td>\n",
       "      <td>0</td>\n",
       "      <td>1</td>\n",
       "      <td>54.027773</td>\n",
       "    </tr>\n",
       "    <tr>\n",
       "      <th>...</th>\n",
       "      <td>...</td>\n",
       "      <td>...</td>\n",
       "      <td>...</td>\n",
       "      <td>...</td>\n",
       "      <td>...</td>\n",
       "      <td>...</td>\n",
       "    </tr>\n",
       "    <tr>\n",
       "      <th>404813</th>\n",
       "      <td>987347281987347281</td>\n",
       "      <td>Peru</td>\n",
       "      <td>1</td>\n",
       "      <td>0</td>\n",
       "      <td>1</td>\n",
       "      <td>42.356056</td>\n",
       "    </tr>\n",
       "    <tr>\n",
       "      <th>404814</th>\n",
       "      <td>9875661716</td>\n",
       "      <td>Peru</td>\n",
       "      <td>1</td>\n",
       "      <td>0</td>\n",
       "      <td>1</td>\n",
       "      <td>41.580042</td>\n",
       "    </tr>\n",
       "    <tr>\n",
       "      <th>404815</th>\n",
       "      <td>987668535729497</td>\n",
       "      <td>Mexico</td>\n",
       "      <td>1</td>\n",
       "      <td>0</td>\n",
       "      <td>1</td>\n",
       "      <td>81.242101</td>\n",
       "    </tr>\n",
       "    <tr>\n",
       "      <th>404816</th>\n",
       "      <td>991600604</td>\n",
       "      <td>Mexico</td>\n",
       "      <td>1</td>\n",
       "      <td>0</td>\n",
       "      <td>1</td>\n",
       "      <td>75.582702</td>\n",
       "    </tr>\n",
       "    <tr>\n",
       "      <th>404817</th>\n",
       "      <td>996142552</td>\n",
       "      <td>Chile</td>\n",
       "      <td>1</td>\n",
       "      <td>0</td>\n",
       "      <td>1</td>\n",
       "      <td>86.858608</td>\n",
       "    </tr>\n",
       "  </tbody>\n",
       "</table>\n",
       "<p>404816 rows × 6 columns</p>\n",
       "</div>"
      ],
      "text/plain": [
       "            customer_phone   name_en  orders_count_buyout_is_false  \\\n",
       "2              00104858209  Colombia                             1   \n",
       "3             004421107797    Mexico                             1   \n",
       "4             005581424742    Mexico                             1   \n",
       "5             006391193794    Mexico                             1   \n",
       "6             006611174574    Mexico                             1   \n",
       "...                    ...       ...                           ...   \n",
       "404813  987347281987347281      Peru                             1   \n",
       "404814          9875661716      Peru                             1   \n",
       "404815     987668535729497    Mexico                             1   \n",
       "404816           991600604    Mexico                             1   \n",
       "404817           996142552     Chile                             1   \n",
       "\n",
       "        orders_count_buyout_is_true  total_closed_orders  \\\n",
       "2                                 0                    1   \n",
       "3                                 0                    1   \n",
       "4                                 0                    1   \n",
       "5                                 0                    1   \n",
       "6                                 0                    1   \n",
       "...                             ...                  ...   \n",
       "404813                            0                    1   \n",
       "404814                            0                    1   \n",
       "404815                            0                    1   \n",
       "404816                            0                    1   \n",
       "404817                            0                    1   \n",
       "\n",
       "        USD_total_closed_orders  \n",
       "2                     35.742293  \n",
       "3                     54.264956  \n",
       "4                     76.579075  \n",
       "5                     75.356799  \n",
       "6                     54.027773  \n",
       "...                         ...  \n",
       "404813                42.356056  \n",
       "404814                41.580042  \n",
       "404815                81.242101  \n",
       "404816                75.582702  \n",
       "404817                86.858608  \n",
       "\n",
       "[404816 rows x 6 columns]"
      ]
     },
     "execution_count": 225,
     "metadata": {},
     "output_type": "execute_result"
    }
   ],
   "source": [
    "lastta = lastta.loc[2:404817]\n",
    "lastta"
   ]
  },
  {
   "cell_type": "markdown",
   "id": "4de809d9",
   "metadata": {},
   "source": [
    "#### orders_count_buyout_is_false == 1"
   ]
  },
  {
   "cell_type": "code",
   "execution_count": 227,
   "id": "9c482f0d",
   "metadata": {},
   "outputs": [
    {
     "data": {
      "text/plain": [
       "'Orders in query/total orders is: 35.35%, USD in query/total USD is: 40.29%'"
      ]
     },
     "execution_count": 227,
     "metadata": {},
     "output_type": "execute_result"
    }
   ],
   "source": [
    "# % заказов, которые аппрувились, но не выкупались хотя бы 1 раз\n",
    "message.format(order=round(lastta['orders_count_buyout_is_false'].sum()/total.iloc[0, 0]*100, 2), \n",
    "               usd=round(lastta['USD_total_closed_orders'].sum()/total.iloc[0, 1]*100, 2))"
   ]
  },
  {
   "cell_type": "code",
   "execution_count": 229,
   "id": "05405ed1",
   "metadata": {},
   "outputs": [
    {
     "data": {
      "text/plain": [
       "'Orders in query/total orders is: 31.52%, USD in query/total USD is: 31.69%'"
      ]
     },
     "execution_count": 229,
     "metadata": {},
     "output_type": "execute_result"
    }
   ],
   "source": [
    "# % заказов, которые аппрувились, но не выкупались хотя бы 1 раз, при этом других выкупов не было\n",
    "message.format(order=round(lastta[lastta['orders_count_buyout_is_true'] == 0]['orders_count_buyout_is_false'].sum()/total.iloc[0, 0]*100, 2), \n",
    "               usd=round(lastta[lastta['orders_count_buyout_is_true'] == 0]['USD_total_closed_orders'].sum()/total.iloc[0, 1]*100, 2))"
   ]
  },
  {
   "cell_type": "code",
   "execution_count": 228,
   "id": "343d4d32",
   "metadata": {},
   "outputs": [
    {
     "data": {
      "text/plain": [
       "'Orders in query/total orders is: 3.83%, USD in query/total USD is: 8.6%'"
      ]
     },
     "execution_count": 228,
     "metadata": {},
     "output_type": "execute_result"
    }
   ],
   "source": [
    "# % заказов, которые аппрувились, но не выкупались хотя бы 1 раз, при этом были другие выкупы\n",
    "message.format(order=round(lastta[lastta['orders_count_buyout_is_true'] != 0]['orders_count_buyout_is_false'].sum()/total.iloc[0, 0]*100, 2), \n",
    "               usd=round(lastta[lastta['orders_count_buyout_is_true'] != 0]['USD_total_closed_orders'].sum()/total.iloc[0, 1]*100, 2)) "
   ]
  },
  {
   "cell_type": "markdown",
   "id": "4b30de0b",
   "metadata": {},
   "source": [
    "#### orders_count_buyout_is_false > 1"
   ]
  },
  {
   "cell_type": "code",
   "execution_count": 153,
   "id": "919c487a",
   "metadata": {},
   "outputs": [
    {
     "data": {
      "text/plain": [
       "'Orders in query/total orders is: 4.57%, USD in query/total USD is: 5.89%'"
      ]
     },
     "execution_count": 153,
     "metadata": {},
     "output_type": "execute_result"
    }
   ],
   "source": [
    "# % заказов, которые аппрувились, но не выкупались хотя бы 2 раза\n",
    "message.format(order=round(group_by_phone_df['orders_count_buyout_is_false'].sum()/total.iloc[0, 0]*100, 2), \n",
    "               usd=round(group_by_phone_df['USD_total_closed_orders'].sum()/total.iloc[0, 1]*100, 2))"
   ]
  },
  {
   "cell_type": "code",
   "execution_count": 147,
   "id": "46eeeabf",
   "metadata": {},
   "outputs": [
    {
     "data": {
      "text/plain": [
       "'Orders in query/total orders is: 3.45%, USD in query/total USD is: 3.8%'"
      ]
     },
     "execution_count": 147,
     "metadata": {},
     "output_type": "execute_result"
    }
   ],
   "source": [
    "# % заказов, которые аппрувились, но не выкупались хотя бы 2 раза, при этом других выкупов не было\n",
    "message.format(order=round(group_by_phone_df[group_by_phone_df['orders_count_buyout_is_true'] == 0]['orders_count_buyout_is_false'].sum()/total.iloc[0, 0]*100, 2), \n",
    "               usd=round(group_by_phone_df[group_by_phone_df['orders_count_buyout_is_true'] == 0]['USD_total_closed_orders'].sum()/total.iloc[0, 1]*100, 2))"
   ]
  },
  {
   "cell_type": "code",
   "execution_count": 148,
   "id": "365717ff",
   "metadata": {},
   "outputs": [
    {
     "data": {
      "text/plain": [
       "'Orders in query/total orders is: 1.12%, USD in query/total USD is: 2.09%'"
      ]
     },
     "execution_count": 148,
     "metadata": {},
     "output_type": "execute_result"
    }
   ],
   "source": [
    "# % заказов, которые аппрувились, но не выкупались хотя бы 2 раза, при этом были другие выкупы\n",
    "message.format(order=round(group_by_phone_df[group_by_phone_df['orders_count_buyout_is_true'] != 0]['orders_count_buyout_is_false'].sum()/total.iloc[0, 0]*100, 2), \n",
    "               usd=round(group_by_phone_df[group_by_phone_df['orders_count_buyout_is_true'] != 0]['USD_total_closed_orders'].sum()/total.iloc[0, 1]*100, 2)) "
   ]
  },
  {
   "cell_type": "markdown",
   "id": "657019b3",
   "metadata": {},
   "source": [
    "#### orders_count_buyout_is_false > 2"
   ]
  },
  {
   "cell_type": "code",
   "execution_count": 166,
   "id": "7cfc5010",
   "metadata": {},
   "outputs": [],
   "source": [
    "more_than_2 = group_by_phone_df[group_by_phone_df['orders_count_buyout_is_false'] > 2]"
   ]
  },
  {
   "cell_type": "code",
   "execution_count": 167,
   "id": "41ef4e61",
   "metadata": {},
   "outputs": [
    {
     "data": {
      "text/plain": [
       "'Orders in query/total orders is: 1.17%, USD in query/total USD is: 1.64%'"
      ]
     },
     "execution_count": 167,
     "metadata": {},
     "output_type": "execute_result"
    }
   ],
   "source": [
    "# % заказов, которые аппрувились, но не выкупались хотя бы 3 раза\n",
    "message.format(order=round(more_than_2['orders_count_buyout_is_false'].sum()/total.iloc[0, 0]*100, 2), \n",
    "               usd=round(more_than_2['USD_total_closed_orders'].sum()/total.iloc[0, 1]*100, 2))"
   ]
  },
  {
   "cell_type": "code",
   "execution_count": 168,
   "id": "92ff90c3",
   "metadata": {},
   "outputs": [
    {
     "data": {
      "text/plain": [
       "'Orders in query/total orders is: 0.77%, USD in query/total USD is: 0.94%'"
      ]
     },
     "execution_count": 168,
     "metadata": {},
     "output_type": "execute_result"
    }
   ],
   "source": [
    "# % заказов, которые аппрувились, но не выкупались хотя бы 3 раза, при этом других выкупов не было\n",
    "message.format(order=round(more_than_2[more_than_2['orders_count_buyout_is_true'] == 0]['orders_count_buyout_is_false'].sum()/total.iloc[0, 0]*100, 2), \n",
    "               usd=round(more_than_2[more_than_2['orders_count_buyout_is_true'] == 0]['USD_total_closed_orders'].sum()/total.iloc[0, 1]*100, 2))"
   ]
  },
  {
   "cell_type": "code",
   "execution_count": 169,
   "id": "17a018a8",
   "metadata": {},
   "outputs": [
    {
     "data": {
      "text/plain": [
       "'Orders in query/total orders is: 0.4%, USD in query/total USD is: 0.7%'"
      ]
     },
     "execution_count": 169,
     "metadata": {},
     "output_type": "execute_result"
    }
   ],
   "source": [
    "# % заказов, которые аппрувились, но не выкупались хотя бы 3 раза, при этом были другие выкупы\n",
    "message.format(order=round(more_than_2[more_than_2['orders_count_buyout_is_true'] != 0]['orders_count_buyout_is_false'].sum()/total.iloc[0, 0]*100, 2), \n",
    "               usd=round(more_than_2[more_than_2['orders_count_buyout_is_true'] != 0]['USD_total_closed_orders'].sum()/total.iloc[0, 1]*100, 2)) "
   ]
  },
  {
   "cell_type": "markdown",
   "id": "2b411e85",
   "metadata": {},
   "source": [
    "#### orders_count_buyout_is_false > 3"
   ]
  },
  {
   "cell_type": "code",
   "execution_count": 173,
   "id": "7b885db7",
   "metadata": {},
   "outputs": [],
   "source": [
    "more_than_3 = group_by_phone_df[group_by_phone_df['orders_count_buyout_is_false'] > 3]"
   ]
  },
  {
   "cell_type": "code",
   "execution_count": 174,
   "id": "54f42062",
   "metadata": {},
   "outputs": [
    {
     "data": {
      "text/plain": [
       "'Orders in query/total orders is: 0.43%, USD in query/total USD is: 0.61%'"
      ]
     },
     "execution_count": 174,
     "metadata": {},
     "output_type": "execute_result"
    }
   ],
   "source": [
    "# % заказов, которые аппрувились, но не выкупались хотя бы 4 раза\n",
    "message.format(order=round(more_than_3['orders_count_buyout_is_false'].sum()/total.iloc[0, 0]*100, 2), \n",
    "               usd=round(more_than_3['USD_total_closed_orders'].sum()/total.iloc[0, 1]*100, 2))"
   ]
  },
  {
   "cell_type": "code",
   "execution_count": 175,
   "id": "c6a018df",
   "metadata": {},
   "outputs": [
    {
     "data": {
      "text/plain": [
       "'Orders in query/total orders is: 0.25%, USD in query/total USD is: 0.29%'"
      ]
     },
     "execution_count": 175,
     "metadata": {},
     "output_type": "execute_result"
    }
   ],
   "source": [
    "# % заказов, которые аппрувились, но не выкупались хотя бы 4 раза, при этом других выкупов не было\n",
    "message.format(order=round(more_than_3[more_than_3['orders_count_buyout_is_true'] == 0]['orders_count_buyout_is_false'].sum()/total.iloc[0, 0]*100, 2), \n",
    "               usd=round(more_than_3[more_than_3['orders_count_buyout_is_true'] == 0]['USD_total_closed_orders'].sum()/total.iloc[0, 1]*100, 2))"
   ]
  },
  {
   "cell_type": "code",
   "execution_count": 176,
   "id": "92bed404",
   "metadata": {},
   "outputs": [
    {
     "data": {
      "text/plain": [
       "'Orders in query/total orders is: 0.18%, USD in query/total USD is: 0.33%'"
      ]
     },
     "execution_count": 176,
     "metadata": {},
     "output_type": "execute_result"
    }
   ],
   "source": [
    "# % заказов, которые аппрувились, но не выкупались хотя бы 4 раза, при этом были другие выкупы\n",
    "message.format(order=round(more_than_3[more_than_3['orders_count_buyout_is_true'] != 0]['orders_count_buyout_is_false'].sum()/total.iloc[0, 0]*100, 2), \n",
    "               usd=round(more_than_3[more_than_3['orders_count_buyout_is_true'] != 0]['USD_total_closed_orders'].sum()/total.iloc[0, 1]*100, 2)) "
   ]
  },
  {
   "cell_type": "code",
   "execution_count": null,
   "id": "14939bbf",
   "metadata": {},
   "outputs": [],
   "source": []
  },
  {
   "cell_type": "code",
   "execution_count": null,
   "id": "e0d64ea5",
   "metadata": {},
   "outputs": [],
   "source": []
  },
  {
   "cell_type": "code",
   "execution_count": 231,
   "id": "de2e0d64",
   "metadata": {},
   "outputs": [
    {
     "data": {
      "text/plain": [
       "<seaborn.axisgrid.JointGrid at 0x24d079a8400>"
      ]
     },
     "execution_count": 231,
     "metadata": {},
     "output_type": "execute_result"
    },
    {
     "data": {
      "image/png": "[encoded data removed]",
      "text/plain": [
       "<Figure size 432x432 with 3 Axes>"
      ]
     },
     "metadata": {
      "needs_background": "light"
     },
     "output_type": "display_data"
    }
   ],
   "source": [
    "sns.jointplot(x=lastta.orders_count_buyout_is_false, y=lastta.orders_count_buyout_is_true)"
   ]
  },
  {
   "cell_type": "code",
   "execution_count": null,
   "id": "ff71f8a0",
   "metadata": {},
   "outputs": [],
   "source": []
  },
  {
   "cell_type": "code",
   "execution_count": null,
   "id": "72f8efc7",
   "metadata": {},
   "outputs": [],
   "source": []
  },
  {
   "cell_type": "code",
   "execution_count": null,
   "id": "84beb7b4",
   "metadata": {},
   "outputs": [],
   "source": []
  },
  {
   "cell_type": "code",
   "execution_count": 89,
   "id": "ef6fcc16",
   "metadata": {},
   "outputs": [
    {
     "data": {
      "text/html": [
       "<div>\n",
       "<style scoped>\n",
       "    .dataframe tbody tr th:only-of-type {\n",
       "        vertical-align: middle;\n",
       "    }\n",
       "\n",
       "    .dataframe tbody tr th {\n",
       "        vertical-align: top;\n",
       "    }\n",
       "\n",
       "    .dataframe thead th {\n",
       "        text-align: right;\n",
       "    }\n",
       "</style>\n",
       "<table border=\"1\" class=\"dataframe\">\n",
       "  <thead>\n",
       "    <tr style=\"text-align: right;\">\n",
       "      <th></th>\n",
       "      <th>customer_phone</th>\n",
       "      <th>orders_count_buyout_is_false</th>\n",
       "      <th>orders_count_buyout_is_true</th>\n",
       "      <th>total_closed_orders</th>\n",
       "      <th>USD_total_closed_orders</th>\n",
       "    </tr>\n",
       "  </thead>\n",
       "  <tbody>\n",
       "    <tr>\n",
       "      <th>6</th>\n",
       "      <td>16126368095</td>\n",
       "      <td>3</td>\n",
       "      <td>0</td>\n",
       "      <td>3</td>\n",
       "      <td>267.306603</td>\n",
       "    </tr>\n",
       "    <tr>\n",
       "      <th>18</th>\n",
       "      <td>18094908862</td>\n",
       "      <td>3</td>\n",
       "      <td>0</td>\n",
       "      <td>3</td>\n",
       "      <td>209.869058</td>\n",
       "    </tr>\n",
       "    <tr>\n",
       "      <th>48</th>\n",
       "      <td>18293427196</td>\n",
       "      <td>3</td>\n",
       "      <td>0</td>\n",
       "      <td>3</td>\n",
       "      <td>241.085927</td>\n",
       "    </tr>\n",
       "    <tr>\n",
       "      <th>56</th>\n",
       "      <td>18294782366</td>\n",
       "      <td>3</td>\n",
       "      <td>0</td>\n",
       "      <td>3</td>\n",
       "      <td>200.041219</td>\n",
       "    </tr>\n",
       "    <tr>\n",
       "      <th>72</th>\n",
       "      <td>18298719546</td>\n",
       "      <td>3</td>\n",
       "      <td>0</td>\n",
       "      <td>3</td>\n",
       "      <td>194.360595</td>\n",
       "    </tr>\n",
       "    <tr>\n",
       "      <th>...</th>\n",
       "      <td>...</td>\n",
       "      <td>...</td>\n",
       "      <td>...</td>\n",
       "      <td>...</td>\n",
       "      <td>...</td>\n",
       "    </tr>\n",
       "    <tr>\n",
       "      <th>25088</th>\n",
       "      <td>94771008387</td>\n",
       "      <td>3</td>\n",
       "      <td>0</td>\n",
       "      <td>3</td>\n",
       "      <td>128.187851</td>\n",
       "    </tr>\n",
       "    <tr>\n",
       "      <th>25093</th>\n",
       "      <td>94772829125</td>\n",
       "      <td>3</td>\n",
       "      <td>0</td>\n",
       "      <td>3</td>\n",
       "      <td>166.563471</td>\n",
       "    </tr>\n",
       "    <tr>\n",
       "      <th>25101</th>\n",
       "      <td>94774326015</td>\n",
       "      <td>3</td>\n",
       "      <td>0</td>\n",
       "      <td>3</td>\n",
       "      <td>147.564680</td>\n",
       "    </tr>\n",
       "    <tr>\n",
       "      <th>25104</th>\n",
       "      <td>94774833878</td>\n",
       "      <td>3</td>\n",
       "      <td>4</td>\n",
       "      <td>7</td>\n",
       "      <td>485.848212</td>\n",
       "    </tr>\n",
       "    <tr>\n",
       "      <th>25119</th>\n",
       "      <td>94779079520</td>\n",
       "      <td>3</td>\n",
       "      <td>1</td>\n",
       "      <td>4</td>\n",
       "      <td>238.859980</td>\n",
       "    </tr>\n",
       "  </tbody>\n",
       "</table>\n",
       "<p>4154 rows × 5 columns</p>\n",
       "</div>"
      ],
      "text/plain": [
       "      customer_phone  orders_count_buyout_is_false  \\\n",
       "6        16126368095                             3   \n",
       "18       18094908862                             3   \n",
       "48       18293427196                             3   \n",
       "56       18294782366                             3   \n",
       "72       18298719546                             3   \n",
       "...              ...                           ...   \n",
       "25088    94771008387                             3   \n",
       "25093    94772829125                             3   \n",
       "25101    94774326015                             3   \n",
       "25104    94774833878                             3   \n",
       "25119    94779079520                             3   \n",
       "\n",
       "       orders_count_buyout_is_true  total_closed_orders  \\\n",
       "6                                0                    3   \n",
       "18                               0                    3   \n",
       "48                               0                    3   \n",
       "56                               0                    3   \n",
       "72                               0                    3   \n",
       "...                            ...                  ...   \n",
       "25088                            0                    3   \n",
       "25093                            0                    3   \n",
       "25101                            0                    3   \n",
       "25104                            4                    7   \n",
       "25119                            1                    4   \n",
       "\n",
       "       USD_total_closed_orders  \n",
       "6                   267.306603  \n",
       "18                  209.869058  \n",
       "48                  241.085927  \n",
       "56                  200.041219  \n",
       "72                  194.360595  \n",
       "...                        ...  \n",
       "25088               128.187851  \n",
       "25093               166.563471  \n",
       "25101               147.564680  \n",
       "25104               485.848212  \n",
       "25119               238.859980  \n",
       "\n",
       "[4154 rows x 5 columns]"
      ]
     },
     "execution_count": 89,
     "metadata": {},
     "output_type": "execute_result"
    }
   ],
   "source": [
    "group_by_phone_df[group_by_phone_df['orders_count_buyout_is_false'] > 2]"
   ]
  },
  {
   "cell_type": "code",
   "execution_count": 170,
   "id": "25130c8c",
   "metadata": {},
   "outputs": [
    {
     "data": {
      "text/plain": [
       "array([ 2,  3,  4,  5,  6,  7,  8, 10,  9, 11, 12, 20, 16, 22, 13, 14, 17,\n",
       "       25, 18], dtype=int64)"
      ]
     },
     "execution_count": 170,
     "metadata": {},
     "output_type": "execute_result"
    }
   ],
   "source": [
    "group_by_phone_df['orders_count_buyout_is_false'].unique()"
   ]
  },
  {
   "cell_type": "code",
   "execution_count": 171,
   "id": "1d57561c",
   "metadata": {},
   "outputs": [
    {
     "data": {
      "text/plain": [
       "array([ 1,  0,  3,  2,  8,  4,  5, 10,  6, 32,  7,  9, 11], dtype=int64)"
      ]
     },
     "execution_count": 171,
     "metadata": {},
     "output_type": "execute_result"
    }
   ],
   "source": [
    "group_by_phone_df['orders_count_buyout_is_true'].unique()"
   ]
  },
  {
   "cell_type": "code",
   "execution_count": 210,
   "id": "7d8b3d15",
   "metadata": {},
   "outputs": [
    {
     "data": {
      "text/plain": [
       "64266"
      ]
     },
     "execution_count": 210,
     "metadata": {},
     "output_type": "execute_result"
    }
   ],
   "source": [
    "group_by_phone_df['total_closed_orders'].sum()"
   ]
  }
 ],
 "metadata": {
  "kernelspec": {
   "display_name": "Python 3 (ipykernel)",
   "language": "python",
   "name": "python3"
  },
  "language_info": {
   "codemirror_mode": {
    "name": "ipython",
    "version": 3
   },
   "file_extension": ".py",
   "mimetype": "text/x-python",
   "name": "python",
   "nbconvert_exporter": "python",
   "pygments_lexer": "ipython3",
   "version": "3.9.12"
  }
 },
 "nbformat": 4,
 "nbformat_minor": 5
}
